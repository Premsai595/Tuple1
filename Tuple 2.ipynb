{
 "cells": [
  {
   "cell_type": "code",
   "execution_count": 2,
   "id": "01c381d6",
   "metadata": {},
   "outputs": [
    {
     "name": "stdout",
     "output_type": "stream",
     "text": [
      "Enter a String: abcd\n",
      "a 97\n",
      "b 98\n",
      "c 99\n",
      "d 100\n"
     ]
    }
   ],
   "source": [
    "print(\"Enter a String: \", end=\"\")\n",
    "text = input()\n",
    "textlength = len(text)\n",
    "for char in text:\n",
    "    ascii = ord(char)\n",
    "    print(char,ascii)"
   ]
  },
  {
   "cell_type": "code",
   "execution_count": null,
   "id": "b8b343f3",
   "metadata": {},
   "outputs": [],
   "source": []
  }
 ],
 "metadata": {
  "kernelspec": {
   "display_name": "Python 3 (ipykernel)",
   "language": "python",
   "name": "python3"
  },
  "language_info": {
   "codemirror_mode": {
    "name": "ipython",
    "version": 3
   },
   "file_extension": ".py",
   "mimetype": "text/x-python",
   "name": "python",
   "nbconvert_exporter": "python",
   "pygments_lexer": "ipython3",
   "version": "3.9.7"
  }
 },
 "nbformat": 4,
 "nbformat_minor": 5
}
